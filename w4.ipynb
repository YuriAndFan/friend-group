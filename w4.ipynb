{
 "cells": [
  {
   "cell_type": "code",
   "execution_count": 1,
   "id": "050bcc64",
   "metadata": {},
   "outputs": [],
   "source": [
    "group = {\n",
    "    \"Jill\": {\n",
    "        \"age\": 26,\n",
    "        \"job\": \"biologist\",\n",
    "        \"relations\": {\n",
    "            \"Zalika\": \"friend\",\n",
    "            \"John\": \"partner\"\n",
    "        }\n",
    "    },\n",
    "    \"Zalika\": {\n",
    "        \"age\": 28,\n",
    "        \"job\": \"artist\",\n",
    "        \"relations\": {\n",
    "            \"Jill\": \"friend\"\n",
    "        }\n",
    "    },\n",
    "    \"John\": {\n",
    "        \"age\": 27,\n",
    "        \"job\": \"writer\",\n",
    "        \"relations\": {\n",
    "            \"Jill\": \"partner\"\n",
    "        }\n",
    "    },\n",
    "    \"Nash\": {\n",
    "        \"age\": 34,\n",
    "        \"job\": \"chef\",\n",
    "        \"relations\": {\n",
    "            \"John\": \"cousin\",\n",
    "            \"Zalika\": \"landlord\"\n",
    "        }\n",
    "    }\n",
    "}\n"
   ]
  },
  {
   "cell_type": "code",
   "execution_count": 5,
   "id": "7fccfcfa",
   "metadata": {},
   "outputs": [],
   "source": [
    "import yaml"
   ]
  },
  {
   "cell_type": "code",
   "execution_count": 6,
   "id": "e81ad4e7",
   "metadata": {},
   "outputs": [],
   "source": [
    "with open(\"group.yaml\", \"w\") as yaml_file:\n",
    "    yaml.dump(group, yaml_file, default_flow_style=False)"
   ]
  },
  {
   "cell_type": "code",
   "execution_count": 7,
   "id": "ad486d92",
   "metadata": {},
   "outputs": [
    {
     "name": "stdout",
     "output_type": "stream",
     "text": [
      "Jill:\n",
      "  age: 26\n",
      "  job: biologist\n",
      "  relations:\n",
      "    John: partner\n",
      "    Zalika: friend\n",
      "John:\n",
      "  age: 27\n",
      "  job: writer\n",
      "  relations:\n",
      "    Jill: partner\n",
      "Nash:\n",
      "  age: 34\n",
      "  job: chef\n",
      "  relations:\n",
      "    John: cousin\n",
      "    Zalika: landlord\n",
      "Zalika:\n",
      "  age: 28\n",
      "  job: artist\n",
      "  relations:\n",
      "    Jill: friend\n",
      "\n"
     ]
    }
   ],
   "source": [
    "with open(\"group.yaml\", \"r\") as yaml_file:\n",
    "    group_data = yaml.safe_load(yaml_file)\n",
    "    print(yaml.dump(group_data, default_flow_style=False))"
   ]
  },
  {
   "cell_type": "code",
   "execution_count": null,
   "id": "7cc5b230",
   "metadata": {},
   "outputs": [],
   "source": [
    "# 22:47\n",
    "\n",
    "# The Python standard library includes some functionality for communicating\n",
    "# over the Internet.\n",
    "# However, we will use a more powerful and simpler library called requests.\n",
    "# This is external library that you may need to install first.\n",
    "import requests\n",
    "\n",
    "\n",
    "\n",
    "def get_data():\n",
    "    # With requests, we can ask the web service for the data.\n",
    "    # Can you understand the parameters we are passing here?\n",
    "    response = requests.get(\n",
    "        \"http://earthquake.usgs.gov/fdsnws/event/1/query.geojson\",\n",
    "        params={\n",
    "            'starttime': \"2000-01-01\",\n",
    "            \"maxlatitude\": \"58.723\",\n",
    "            \"minlatitude\": \"50.008\",\n",
    "            \"maxlongitude\": \"1.67\",\n",
    "            \"minlongitude\": \"-9.756\",\n",
    "            \"minmagnitude\": \"1\",\n",
    "            \"endtime\": \"2018-10-11\",\n",
    "            \"orderby\": \"time-asc\"}\n",
    "    )\n",
    "\n",
    "    # The response we get back is an object with several fields.\n",
    "    # The actual contents we care about are in its text field:\n",
    "    text = response.text\n",
    "    # To understand the structure of this text, you may want to save it\n",
    "    # to a file and open it in VS Code or a browser.\n",
    "    # See the README file for more information.\n",
    "    ...\n",
    "\n",
    "    # We need to interpret the text to get values that we can work with.\n",
    "    # What format is the text in? How can we load the values?\n",
    "    return ...\n",
    "\n",
    "def count_earthquakes(data):\n",
    "    \"\"\"Get the total number of earthquakes in the response.\"\"\"\n",
    "    return ...\n",
    "\n",
    "\n",
    "def get_magnitude(earthquake):\n",
    "    \"\"\"Retrive the magnitude of an earthquake item.\"\"\"\n",
    "    return ...\n",
    "\n",
    "\n",
    "def get_location(earthquake):\n",
    "    \"\"\"Retrieve the latitude and longitude of an earthquake item.\"\"\"\n",
    "    # There are three coordinates, but we don't care about the third (altitude)\n",
    "    return ...\n",
    "\n",
    "\n",
    "def get_maximum(data):\n",
    "    \"\"\"Get the magnitude and location of the strongest earthquake in the data.\"\"\"\n",
    "    ...\n",
    "\n",
    "\n",
    "# With all the above functions defined, we can now call them and get the result\n",
    "data = get_data()\n",
    "print(f\"Loaded {count_earthquakes(data)}\")\n",
    "max_magnitude, max_location = get_maximum(data)\n",
    "print(f\"The strongest earthquake was at {max_location} with magnitude {max_magnitude}\")\n",
    "\n"
   ]
  },
  {
   "cell_type": "code",
   "execution_count": null,
   "id": "aa84616b",
   "metadata": {},
   "outputs": [],
   "source": []
  },
  {
   "cell_type": "code",
   "execution_count": null,
   "id": "534aa398",
   "metadata": {},
   "outputs": [],
   "source": []
  },
  {
   "cell_type": "code",
   "execution_count": null,
   "id": "bfcccb50",
   "metadata": {},
   "outputs": [],
   "source": []
  },
  {
   "cell_type": "code",
   "execution_count": null,
   "id": "9b981605",
   "metadata": {},
   "outputs": [],
   "source": []
  },
  {
   "cell_type": "code",
   "execution_count": null,
   "id": "f383ae2d",
   "metadata": {},
   "outputs": [],
   "source": []
  },
  {
   "cell_type": "code",
   "execution_count": null,
   "id": "59b183ef",
   "metadata": {},
   "outputs": [],
   "source": []
  },
  {
   "cell_type": "code",
   "execution_count": null,
   "id": "97ec26dd",
   "metadata": {},
   "outputs": [],
   "source": []
  },
  {
   "cell_type": "code",
   "execution_count": null,
   "id": "5b3adfb1",
   "metadata": {},
   "outputs": [],
   "source": []
  },
  {
   "cell_type": "code",
   "execution_count": null,
   "id": "852f11b4",
   "metadata": {},
   "outputs": [],
   "source": []
  }
 ],
 "metadata": {
  "kernelspec": {
   "display_name": "Python 3 (ipykernel)",
   "language": "python",
   "name": "python3"
  },
  "language_info": {
   "codemirror_mode": {
    "name": "ipython",
    "version": 3
   },
   "file_extension": ".py",
   "mimetype": "text/x-python",
   "name": "python",
   "nbconvert_exporter": "python",
   "pygments_lexer": "ipython3",
   "version": "3.11.5"
  }
 },
 "nbformat": 4,
 "nbformat_minor": 5
}
